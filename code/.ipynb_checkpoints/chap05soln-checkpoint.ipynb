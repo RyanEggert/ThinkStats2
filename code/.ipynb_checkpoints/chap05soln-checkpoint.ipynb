{
 "metadata": {
  "name": "",
  "signature": "sha256:882d68ca7365807ab8c30099c1c61ffda2145af6b1c1ce3c3389df877c93485d"
 },
 "nbformat": 3,
 "nbformat_minor": 0,
 "worksheets": [
  {
   "cells": [
    {
     "cell_type": "markdown",
     "metadata": {},
     "source": [
      "<tt>scipy.stats</tt> contains objects that represent analytic distributions"
     ]
    },
    {
     "cell_type": "code",
     "collapsed": false,
     "input": [
      "import scipy.stats"
     ],
     "language": "python",
     "metadata": {},
     "outputs": [],
     "prompt_number": 2
    },
    {
     "cell_type": "markdown",
     "metadata": {},
     "source": [
      "For example <tt>scipy.stats.norm</tt> represents a normal distribution."
     ]
    },
    {
     "cell_type": "code",
     "collapsed": false,
     "input": [
      "mu = 178\n",
      "sigma = 7.7\n",
      "dist = scipy.stats.norm(loc=mu, scale=sigma)\n",
      "type(dist)"
     ],
     "language": "python",
     "metadata": {},
     "outputs": [
      {
       "metadata": {},
       "output_type": "pyout",
       "prompt_number": 3,
       "text": [
        "scipy.stats._distn_infrastructure.rv_frozen"
       ]
      }
     ],
     "prompt_number": 3
    },
    {
     "cell_type": "markdown",
     "metadata": {},
     "source": [
      "A \"frozen random variable\" can compute its mean and standard deviation."
     ]
    },
    {
     "cell_type": "code",
     "collapsed": false,
     "input": [
      "dist.mean(), dist.std()"
     ],
     "language": "python",
     "metadata": {},
     "outputs": [
      {
       "metadata": {},
       "output_type": "pyout",
       "prompt_number": 4,
       "text": [
        "(178.0, 7.7000000000000002)"
       ]
      }
     ],
     "prompt_number": 4
    },
    {
     "cell_type": "markdown",
     "metadata": {},
     "source": [
      "It can also evaluate its CDF.  How many people are more than one standard deviation below the mean?  About 16%"
     ]
    },
    {
     "cell_type": "code",
     "collapsed": false,
     "input": [
      "dist.cdf(mu-sigma)"
     ],
     "language": "python",
     "metadata": {},
     "outputs": [
      {
       "metadata": {},
       "output_type": "pyout",
       "prompt_number": 5,
       "text": [
        "0.15865525393145741"
       ]
      }
     ],
     "prompt_number": 5
    },
    {
     "cell_type": "markdown",
     "metadata": {},
     "source": [
      "How many people are between 5'10\" and 6'1\"?"
     ]
    },
    {
     "cell_type": "code",
     "collapsed": false,
     "input": [
      "low = dist.cdf(177.8)    # 5'10\"\n",
      "high = dist.cdf(185.4)   # 6'1\"\n",
      "low, high, high-low"
     ],
     "language": "python",
     "metadata": {},
     "outputs": [
      {
       "metadata": {},
       "output_type": "pyout",
       "prompt_number": 6,
       "text": [
        "(0.48963902786483265, 0.83173371081078573, 0.34209468294595308)"
       ]
      }
     ],
     "prompt_number": 6
    },
    {
     "cell_type": "markdown",
     "metadata": {},
     "source": [
      "<tt>scipy.stats.pareto</tt> represents a pareto distribution.  In Pareto world, the distribution of human heights has parameters alpha=1.7 and xmin=1 meter.  So the shortest person is 100 cm and the median is 150."
     ]
    },
    {
     "cell_type": "code",
     "collapsed": false,
     "input": [
      "alpha = 1.7\n",
      "xmin = 1\n",
      "dist = scipy.stats.pareto(b=alpha, scale=xmin)\n",
      "dist.median()"
     ],
     "language": "python",
     "metadata": {},
     "outputs": [
      {
       "metadata": {},
       "output_type": "pyout",
       "prompt_number": 7,
       "text": [
        "1.5034066538560549"
       ]
      }
     ],
     "prompt_number": 7
    },
    {
     "cell_type": "markdown",
     "metadata": {},
     "source": [
      "What is the mean height in Pareto world?"
     ]
    },
    {
     "cell_type": "code",
     "collapsed": false,
     "input": [
      "dist.mean()"
     ],
     "language": "python",
     "metadata": {},
     "outputs": [
      {
       "metadata": {},
       "output_type": "pyout",
       "prompt_number": 8,
       "text": [
        "2.4285714285714288"
       ]
      }
     ],
     "prompt_number": 8
    },
    {
     "cell_type": "markdown",
     "metadata": {},
     "source": [
      "What fraction of people are shorter than the mean?"
     ]
    },
    {
     "cell_type": "code",
     "collapsed": false,
     "input": [
      "dist.cdf(dist.mean())"
     ],
     "language": "python",
     "metadata": {},
     "outputs": [
      {
       "metadata": {},
       "output_type": "pyout",
       "prompt_number": 9,
       "text": [
        "0.77873969756528805"
       ]
      }
     ],
     "prompt_number": 9
    },
    {
     "cell_type": "markdown",
     "metadata": {},
     "source": [
      "Out of 7 billion people, how many do we expect to be taller than 1 km?  You could use <tt>dist.cdf</tt> or <tt>dist.sf</tt>."
     ]
    },
    {
     "cell_type": "code",
     "collapsed": false,
     "input": [
      "(1 - dist.cdf(1000)) * 7e9\n",
      "dist.sf(1000) * 7e9"
     ],
     "language": "python",
     "metadata": {},
     "outputs": [
      {
       "metadata": {},
       "output_type": "pyout",
       "prompt_number": 10,
       "text": [
        "55602.976430479954"
       ]
      }
     ],
     "prompt_number": 10
    },
    {
     "cell_type": "markdown",
     "metadata": {},
     "source": [
      "How tall do we expect the tallest person to be?"
     ]
    },
    {
     "cell_type": "code",
     "collapsed": false,
     "input": [
      "dist.sf(600000) * 7e9            # find the height that yields about 1 person"
     ],
     "language": "python",
     "metadata": {},
     "outputs": [
      {
       "metadata": {},
       "output_type": "pyout",
       "prompt_number": 11,
       "text": [
        "1.0525452731613427"
       ]
      }
     ],
     "prompt_number": 11
    },
    {
     "cell_type": "markdown",
     "metadata": {},
     "source": [
      "Generate a sample from a Weibull distribution and plot it using a transform that makes a Weibull distribution look like a straight line."
     ]
    },
    {
     "cell_type": "code",
     "collapsed": false,
     "input": [
      "import random\n",
      "import thinkstats2\n",
      "import thinkplot"
     ],
     "language": "python",
     "metadata": {},
     "outputs": [],
     "prompt_number": 12
    },
    {
     "cell_type": "code",
     "collapsed": false,
     "input": [
      "sample = [random.weibullvariate(2, 1) for _ in range(1000)]\n",
      "cdf = thinkstats2.Cdf(sample)\n",
      "thinkplot.Cdf(cdf, transform='weibull')\n",
      "thinkplot.Show(legend=False)"
     ],
     "language": "python",
     "metadata": {},
     "outputs": [
      {
       "metadata": {},
       "output_type": "display_data",
       "png": "[encoded data removed]",
       "text": [
        "<matplotlib.figure.Figure at 0x7f6140f579d0>"
       ]
      },
      {
       "metadata": {},
       "output_type": "display_data",
       "text": [
        "<matplotlib.figure.Figure at 0x7f6140ed3f50>"
       ]
      }
     ],
     "prompt_number": 13
    },
    {
     "cell_type": "markdown",
     "metadata": {},
     "source": [
      "Make a random selection from <tt>cdf</tt>."
     ]
    },
    {
     "cell_type": "code",
     "collapsed": false,
     "input": [
      "cdf.Random()"
     ],
     "language": "python",
     "metadata": {},
     "outputs": [
      {
       "metadata": {},
       "output_type": "pyout",
       "prompt_number": 14,
       "text": [
        "0.65377858201900763"
       ]
      }
     ],
     "prompt_number": 14
    },
    {
     "cell_type": "markdown",
     "metadata": {},
     "source": [
      "Draw a random sample from <tt>cdf</tt>."
     ]
    },
    {
     "cell_type": "code",
     "collapsed": false,
     "input": [
      "cdf.Sample(10)"
     ],
     "language": "python",
     "metadata": {},
     "outputs": [
      {
       "metadata": {},
       "output_type": "pyout",
       "prompt_number": 15,
       "text": [
        "array([ 2.69055404,  0.44914643,  1.46672436,  8.15561284,  1.40426481,\n",
        "        5.19129995,  1.60307869,  0.10866025,  3.21753506,  0.46021835])"
       ]
      }
     ],
     "prompt_number": 15
    },
    {
     "cell_type": "markdown",
     "metadata": {},
     "source": [
      "Draw a random sample from <tt>cdf</tt>, then compute the percentile rank for each value, and plot the distribution of the percentile ranks."
     ]
    },
    {
     "cell_type": "code",
     "collapsed": false,
     "input": [
      "prs = [cdf.PercentileRank(x) for x in cdf.Sample(1000)]\n",
      "pr_cdf = thinkstats2.Cdf(prs)\n",
      "thinkplot.Cdf(pr_cdf)"
     ],
     "language": "python",
     "metadata": {},
     "outputs": [
      {
       "metadata": {},
       "output_type": "pyout",
       "prompt_number": 17,
       "text": [
        "[(0.10000000000000001, 0.001),\n",
        " (0.29999999999999999, 0.001),\n",
        " (0.40000000000000002, 0.001),\n",
        " (0.5, 0.0030000000000000001),\n",
        " (0.59999999999999998, 0.002),\n",
        " (0.80000000000000004, 0.00099999999999999915),\n",
        " (0.89999999999999991, 0.0010000000000000009),\n",
        " (1.0, 0.0029999999999999992),\n",
        " (1.0999999999999999, 0.002),\n",
        " (1.2, 0.0020000000000000018),\n",
        " (1.6000000000000001, 0.0019999999999999983),\n",
        " (1.7000000000000002, 0.0029999999999999992),\n",
        " (1.7999999999999998, 0.0030000000000000027),\n",
        " (1.8999999999999999, 0.00099999999999999742),\n",
        " (2.1000000000000001, 0.0020000000000000018),\n",
        " (2.3999999999999999, 0.0010000000000000009),\n",
        " (2.5, 0.0029999999999999992),\n",
        " (2.6000000000000001, 0.0020000000000000018),\n",
        " (2.9000000000000004, 0.0010000000000000009),\n",
        " (3.0, 0.0019999999999999948),\n",
        " (3.1000000000000001, 0.0010000000000000009),\n",
        " (3.2000000000000002, 0.0049999999999999975),\n",
        " (3.3000000000000003, 0.0010000000000000009),\n",
        " (3.4000000000000004, 0.0010000000000000009),\n",
        " (3.5000000000000004, 0.0010000000000000009),\n",
        " (3.7999999999999998, 0.0010000000000000009),\n",
        " (3.8999999999999999, 0.0030000000000000027),\n",
        " (4.1000000000000005, 0.00099999999999999395),\n",
        " (4.2000000000000002, 0.0030000000000000027),\n",
        " (4.2999999999999998, 0.0010000000000000009),\n",
        " (4.3999999999999995, 0.0010000000000000009),\n",
        " (4.5, 0.0010000000000000009),\n",
        " (5.5, 0.0019999999999999948),\n",
        " (5.6000000000000005, 0.0010000000000000009),\n",
        " (5.7000000000000002, 0.0010000000000000009),\n",
        " (5.8999999999999995, 0.0010000000000000009),\n",
        " (6.0, 0.0020000000000000018),\n",
        " (6.0999999999999996, 0.0010000000000000009),\n",
        " (6.2999999999999998, 0.0040000000000000036),\n",
        " (6.4000000000000004, 0.0010000000000000009),\n",
        " (6.5, 0.00099999999999998701),\n",
        " (6.6000000000000005, 0.0020000000000000018),\n",
        " (6.7000000000000002, 0.0010000000000000009),\n",
        " (7.0000000000000009, 0.0010000000000000009),\n",
        " (7.0999999999999996, 0.0010000000000000009),\n",
        " (7.2999999999999998, 0.0010000000000000009),\n",
        " (7.5, 0.0010000000000000009),\n",
        " (7.5999999999999996, 0.0010000000000000009),\n",
        " (7.7000000000000002, 0.0020000000000000018),\n",
        " (7.7999999999999998, 0.0010000000000000009),\n",
        " (7.9000000000000004, 0.0020000000000000018),\n",
        " (8.0, 0.0010000000000000009),\n",
        " (8.0999999999999996, 0.00099999999999998701),\n",
        " (8.2000000000000011, 0.0010000000000000009),\n",
        " (8.3000000000000007, 0.0010000000000000009),\n",
        " (8.4000000000000004, 0.0010000000000000009),\n",
        " (8.5999999999999996, 0.0010000000000000009),\n",
        " (9.0999999999999996, 0.0030000000000000027),\n",
        " (9.1999999999999993, 0.0010000000000000009),\n",
        " (9.3000000000000007, 0.0020000000000000018),\n",
        " (9.4000000000000004, 0.0010000000000000009),\n",
        " (9.9000000000000004, 0.0020000000000000018),\n",
        " (10.0, 0.0010000000000000009),\n",
        " (10.100000000000001, 0.0010000000000000009),\n",
        " (10.199999999999999, 0.00099999999999998701),\n",
        " (10.4, 0.0020000000000000018),\n",
        " (10.6, 0.0010000000000000009),\n",
        " (11.0, 0.0010000000000000009),\n",
        " (11.1, 0.0010000000000000009),\n",
        " (11.4, 0.0020000000000000018),\n",
        " (11.5, 0.0010000000000000009),\n",
        " (11.700000000000001, 0.0010000000000000009),\n",
        " (11.799999999999999, 0.0020000000000000018),\n",
        " (11.899999999999999, 0.0020000000000000018),\n",
        " (12.199999999999999, 0.0010000000000000009),\n",
        " (12.300000000000001, 0.0019999999999999879),\n",
        " (12.4, 0.0010000000000000009),\n",
        " (12.5, 0.0050000000000000044),\n",
        " (12.800000000000001, 0.0010000000000000009),\n",
        " (13.0, 0.0010000000000000009),\n",
        " (13.100000000000001, 0.0020000000000000018),\n",
        " (13.4, 0.0010000000000000009),\n",
        " (13.5, 0.0020000000000000018),\n",
        " (13.600000000000001, 0.0010000000000000009),\n",
        " (13.700000000000001, 0.0010000000000000009),\n",
        " (13.800000000000001, 0.0010000000000000009),\n",
        " (14.099999999999998, 0.0020000000000000018),\n",
        " (14.199999999999999, 0.0010000000000000009),\n",
        " (14.299999999999999, 0.0020000000000000018),\n",
        " (14.399999999999999, 0.0010000000000000009),\n",
        " (14.6, 0.00099999999999997313),\n",
        " (14.799999999999999, 0.0020000000000000018),\n",
        " (14.899999999999999, 0.0010000000000000009),\n",
        " (15.0, 0.0010000000000000009),\n",
        " (15.1, 0.0010000000000000009),\n",
        " (15.199999999999999, 0.0010000000000000009),\n",
        " (15.6, 0.0020000000000000018),\n",
        " (15.800000000000001, 0.0010000000000000009),\n",
        " (16.100000000000001, 0.0020000000000000018),\n",
        " (16.199999999999999, 0.0030000000000000027),\n",
        " (16.300000000000001, 0.0020000000000000018),\n",
        " (16.5, 0.0020000000000000018),\n",
        " (16.699999999999999, 0.0010000000000000009),\n",
        " (16.800000000000001, 0.0010000000000000009),\n",
        " (16.900000000000002, 0.0030000000000000027),\n",
        " (17.199999999999999, 0.0020000000000000018),\n",
        " (17.399999999999999, 0.0010000000000000009),\n",
        " (17.5, 0.0010000000000000009),\n",
        " (17.699999999999999, 0.0010000000000000009),\n",
        " (18.099999999999998, 0.0010000000000000009),\n",
        " (18.199999999999999, 0.0010000000000000009),\n",
        " (18.300000000000001, 0.00099999999999997313),\n",
        " (18.5, 0.0010000000000000009),\n",
        " (18.600000000000001, 0.0010000000000000009),\n",
        " (18.699999999999999, 0.0010000000000000009),\n",
        " (18.899999999999999, 0.0010000000000000009),\n",
        " (19.100000000000001, 0.0020000000000000018),\n",
        " (19.199999999999999, 0.0030000000000000027),\n",
        " (19.5, 0.0010000000000000009),\n",
        " (19.699999999999999, 0.0020000000000000018),\n",
        " (19.800000000000001, 0.0010000000000000009),\n",
        " (19.900000000000002, 0.0020000000000000018),\n",
        " (20.0, 0.0010000000000000009),\n",
        " (20.100000000000001, 0.0030000000000000027),\n",
        " (20.200000000000003, 0.0010000000000000009),\n",
        " (20.300000000000001, 0.0010000000000000009),\n",
        " (20.399999999999999, 0.0020000000000000018),\n",
        " (20.5, 0.0010000000000000009),\n",
        " (20.599999999999998, 0.0040000000000000036),\n",
        " (20.800000000000001, 0.0020000000000000018),\n",
        " (20.899999999999999, 0.001999999999999974),\n",
        " (21.099999999999998, 0.0020000000000000018),\n",
        " (21.199999999999999, 0.0010000000000000009),\n",
        " (21.699999999999999, 0.0010000000000000009),\n",
        " (21.800000000000001, 0.0010000000000000009),\n",
        " (21.899999999999999, 0.0010000000000000009),\n",
        " (22.100000000000001, 0.0020000000000000018),\n",
        " (22.300000000000001, 0.0010000000000000009),\n",
        " (22.400000000000002, 0.0010000000000000009),\n",
        " (22.5, 0.0010000000000000009),\n",
        " (22.600000000000001, 0.0010000000000000009),\n",
        " (22.800000000000001, 0.0020000000000000018),\n",
        " (22.900000000000002, 0.0020000000000000018),\n",
        " (23.200000000000003, 0.0010000000000000009),\n",
        " (23.400000000000002, 0.0010000000000000009),\n",
        " (23.599999999999998, 0.0010000000000000009),\n",
        " (23.699999999999999, 0.0020000000000000018),\n",
        " (23.799999999999997, 0.0010000000000000009),\n",
        " (23.899999999999999, 0.0020000000000000018),\n",
        " (24.0, 0.0030000000000000027),\n",
        " (24.699999999999999, 0.0020000000000000018),\n",
        " (24.800000000000001, 0.0010000000000000009),\n",
        " (25.0, 0.001999999999999974),\n",
        " (25.100000000000001, 0.0010000000000000009),\n",
        " (25.199999999999999, 0.0010000000000000009),\n",
        " (25.300000000000001, 0.0010000000000000009),\n",
        " (25.600000000000001, 0.0010000000000000009),\n",
        " (25.699999999999999, 0.0020000000000000018),\n",
        " (25.800000000000001, 0.0010000000000000009),\n",
        " (26.0, 0.0010000000000000009),\n",
        " (26.100000000000001, 0.0050000000000000044),\n",
        " (26.200000000000003, 0.0020000000000000018),\n",
        " (26.300000000000001, 0.0020000000000000018),\n",
        " (26.400000000000002, 0.0020000000000000018),\n",
        " (26.5, 0.0010000000000000009),\n",
        " (26.700000000000003, 0.0030000000000000027),\n",
        " (26.800000000000001, 0.0020000000000000018),\n",
        " (26.900000000000002, 0.0010000000000000009),\n",
        " (27.0, 0.0010000000000000009),\n",
        " (27.100000000000001, 0.0010000000000000009),\n",
        " (27.200000000000003, 0.0020000000000000018),\n",
        " (27.300000000000001, 0.0020000000000000018),\n",
        " (27.500000000000004, 0.0030000000000000027),\n",
        " (27.800000000000004, 0.0020000000000000018),\n",
        " (27.900000000000002, 0.0020000000000000018),\n",
        " (28.000000000000004, 0.0010000000000000009),\n",
        " (28.100000000000001, 0.0020000000000000018),\n",
        " (28.199999999999996, 0.0010000000000000009),\n",
        " (28.299999999999997, 0.0010000000000000009),\n",
        " (28.399999999999999, 0.0029999999999999472),\n",
        " (28.499999999999996, 0.0010000000000000009),\n",
        " (28.799999999999997, 0.0020000000000000018),\n",
        " (28.899999999999999, 0.0010000000000000009),\n",
        " (28.999999999999996, 0.0010000000000000009),\n",
        " (29.099999999999998, 0.0020000000000000018),\n",
        " (29.199999999999999, 0.0020000000000000018),\n",
        " (29.299999999999997, 0.0010000000000000009),\n",
        " (29.5, 0.0020000000000000018),\n",
        " (29.599999999999998, 0.0010000000000000009),\n",
        " (29.799999999999997, 0.0020000000000000018),\n",
        " (30.099999999999998, 0.0010000000000000009),\n",
        " (30.199999999999999, 0.0020000000000000018),\n",
        " (30.5, 0.0020000000000000018),\n",
        " (30.599999999999998, 0.0010000000000000009),\n",
        " (30.699999999999999, 0.0010000000000000009),\n",
        " (30.800000000000001, 0.0010000000000000009),\n",
        " (31.0, 0.0010000000000000009),\n",
        " (31.300000000000001, 0.0030000000000000027),\n",
        " (31.5, 0.0020000000000000018),\n",
        " (31.699999999999999, 0.0020000000000000018),\n",
        " (31.800000000000001, 0.0010000000000000009),\n",
        " (31.900000000000002, 0.0010000000000000009),\n",
        " (32.0, 0.0010000000000000009),\n",
        " (32.100000000000001, 0.0010000000000000009),\n",
        " (32.200000000000003, 0.0010000000000000009),\n",
        " (32.399999999999999, 0.0020000000000000018),\n",
        " (32.5, 0.0020000000000000018),\n",
        " (32.600000000000001, 0.0030000000000000027),\n",
        " (32.899999999999999, 0.0010000000000000009),\n",
        " (33.0, 0.0020000000000000018),\n",
        " (33.100000000000001, 0.0010000000000000009),\n",
        " (33.200000000000003, 0.0010000000000000009),\n",
        " (33.600000000000001, 0.0020000000000000018),\n",
        " (33.700000000000003, 0.0030000000000000027),\n",
        " (33.800000000000004, 0.0010000000000000009),\n",
        " (33.900000000000006, 0.0020000000000000018),\n",
        " (34.100000000000001, 0.0010000000000000009),\n",
        " (34.300000000000004, 0.0020000000000000018),\n",
        " (34.699999999999996, 0.0019999999999999463),\n",
        " (34.899999999999999, 0.0030000000000000027),\n",
        " (35.099999999999994, 0.0020000000000000018),\n",
        " (35.199999999999996, 0.0030000000000000027),\n",
        " (35.299999999999997, 0.0020000000000000018),\n",
        " (35.399999999999999, 0.0010000000000000009),\n",
        " (35.600000000000001, 0.0020000000000000018),\n",
        " (35.799999999999997, 0.0020000000000000018),\n",
        " (35.899999999999999, 0.0010000000000000009),\n",
        " (36.0, 0.0030000000000000027),\n",
        " (36.299999999999997, 0.0040000000000000036),\n",
        " (36.399999999999999, 0.0020000000000000018),\n",
        " (36.600000000000001, 0.0010000000000000009),\n",
        " (36.700000000000003, 0.0020000000000000018),\n",
        " (36.899999999999999, 0.0010000000000000009),\n",
        " (37.0, 0.0020000000000000018),\n",
        " (37.100000000000001, 0.0010000000000000009),\n",
        " (37.200000000000003, 0.0010000000000000009),\n",
        " (37.5, 0.0010000000000000009),\n",
        " (37.600000000000001, 0.0010000000000000009),\n",
        " (37.799999999999997, 0.0010000000000000009),\n",
        " (37.899999999999999, 0.0010000000000000009),\n",
        " (38.200000000000003, 0.0010000000000000009),\n",
        " (38.299999999999997, 0.0020000000000000018),\n",
        " (38.600000000000001, 0.0010000000000000009),\n",
        " (38.700000000000003, 0.0010000000000000009),\n",
        " (38.800000000000004, 0.0020000000000000018),\n",
        " (38.899999999999999, 0.0030000000000000027),\n",
        " (39.0, 0.0010000000000000009),\n",
        " (39.300000000000004, 0.0020000000000000018),\n",
        " (39.399999999999999, 0.0020000000000000018),\n",
        " (39.5, 0.0020000000000000018),\n",
        " (39.700000000000003, 0.0020000000000000018),\n",
        " (39.800000000000004, 0.0010000000000000009),\n",
        " (39.900000000000006, 0.0020000000000000018),\n",
        " (40.100000000000001, 0.0010000000000000009),\n",
        " (40.200000000000003, 0.0010000000000000009),\n",
        " (40.300000000000004, 0.0010000000000000009),\n",
        " (40.400000000000006, 0.0019999999999999463),\n",
        " (40.5, 0.0010000000000000009),\n",
        " (40.600000000000001, 0.0020000000000000018),\n",
        " (41.0, 0.0010000000000000009),\n",
        " (41.099999999999994, 0.0010000000000000009),\n",
        " (41.299999999999997, 0.0020000000000000018),\n",
        " (41.5, 0.0010000000000000009),\n",
        " (41.600000000000001, 0.0010000000000000009),\n",
        " (41.699999999999996, 0.0010000000000000009),\n",
        " (42.199999999999996, 0.0010000000000000009),\n",
        " (42.399999999999999, 0.0020000000000000018),\n",
        " (42.600000000000001, 0.0010000000000000009),\n",
        " (42.799999999999997, 0.0010000000000000009),\n",
        " (42.899999999999999, 0.0010000000000000009),\n",
        " (43.0, 0.0010000000000000009),\n",
        " (43.100000000000001, 0.0010000000000000009),\n",
        " (43.200000000000003, 0.0020000000000000018),\n",
        " (43.5, 0.0020000000000000018),\n",
        " (43.600000000000001, 0.0010000000000000009),\n",
        " (43.700000000000003, 0.0010000000000000009),\n",
        " (43.899999999999999, 0.0010000000000000009),\n",
        " (44.100000000000001, 0.0010000000000000009),\n",
        " (44.200000000000003, 0.0010000000000000009),\n",
        " (44.700000000000003, 0.0030000000000000027),\n",
        " (44.899999999999999, 0.0020000000000000018),\n",
        " (45.0, 0.0020000000000000018),\n",
        " (45.100000000000001, 0.0010000000000000009),\n",
        " (45.300000000000004, 0.0010000000000000009),\n",
        " (45.399999999999999, 0.0010000000000000009),\n",
        " (45.600000000000001, 0.0020000000000000018),\n",
        " (45.700000000000003, 0.0010000000000000009),\n",
        " (45.800000000000004, 0.0010000000000000009),\n",
        " (45.899999999999999, 0.0020000000000000018),\n",
        " (46.0, 0.0020000000000000018),\n",
        " (46.200000000000003, 0.0010000000000000009),\n",
        " (46.600000000000001, 0.0020000000000000018),\n",
        " (46.899999999999999, 0.0010000000000000009),\n",
        " (47.0, 0.0010000000000000009),\n",
        " (47.099999999999994, 0.0010000000000000009),\n",
        " (47.199999999999996, 0.0010000000000000009),\n",
        " (47.299999999999997, 0.0040000000000000036),\n",
        " (47.599999999999994, 0.0020000000000000018),\n",
        " (47.699999999999996, 0.0010000000000000009),\n",
        " (47.799999999999997, 0.0010000000000000009),\n",
        " (47.899999999999999, 0.00099999999999994538),\n",
        " (48.100000000000001, 0.0010000000000000009),\n",
        " (48.199999999999996, 0.0030000000000000027),\n",
        " (48.299999999999997, 0.0020000000000000018),\n",
        " (48.399999999999999, 0.0010000000000000009),\n",
        " (48.5, 0.0010000000000000009),\n",
        " (48.600000000000001, 0.0030000000000000027),\n",
        " (48.899999999999999, 0.0010000000000000009),\n",
        " (49.0, 0.0020000000000000018),\n",
        " (49.100000000000001, 0.0010000000000000009),\n",
        " (49.200000000000003, 0.0010000000000000009),\n",
        " (49.399999999999999, 0.0020000000000000018),\n",
        " (49.5, 0.0010000000000000009),\n",
        " (49.600000000000001, 0.0010000000000000009),\n",
        " (49.700000000000003, 0.0020000000000000018),\n",
        " (49.799999999999997, 0.0010000000000000009),\n",
        " (49.899999999999999, 0.0010000000000000009),\n",
        " (50.100000000000001, 0.0020000000000000018),\n",
        " (50.299999999999997, 0.0010000000000000009),\n",
        " (50.5, 0.0010000000000000009),\n",
        " (50.600000000000001, 0.0010000000000000009),\n",
        " (50.700000000000003, 0.0020000000000000018),\n",
        " (51.0, 0.0010000000000000009),\n",
        " (51.100000000000001, 0.0010000000000000009),\n",
        " (51.200000000000003, 0.0010000000000000009),\n",
        " (51.300000000000004, 0.0020000000000000018),\n",
        " (51.399999999999999, 0.0020000000000000018),\n",
        " (51.5, 0.0010000000000000009),\n",
        " (51.600000000000001, 0.0040000000000000036),\n",
        " (51.700000000000003, 0.0030000000000000027),\n",
        " (51.899999999999999, 0.0030000000000000027),\n",
        " (52.0, 0.0010000000000000009),\n",
        " (52.100000000000001, 0.0030000000000000027),\n",
        " (52.200000000000003, 0.0030000000000000027),\n",
        " (52.300000000000004, 0.0020000000000000018),\n",
        " (52.400000000000006, 0.0030000000000000027),\n",
        " (52.700000000000003, 0.0010000000000000009),\n",
        " (53.0, 0.0010000000000000009),\n",
        " (53.5, 0.0010000000000000009),\n",
        " (53.600000000000001, 0.0020000000000000018),\n",
        " (53.800000000000004, 0.0010000000000000009),\n",
        " (54.0, 0.0030000000000000027),\n",
        " (54.300000000000004, 0.0010000000000000009),\n",
        " (54.500000000000007, 0.0010000000000000009),\n",
        " (54.600000000000001, 0.0010000000000000009),\n",
        " (54.700000000000003, 0.0010000000000000009),\n",
        " (54.800000000000004, 0.0020000000000000018),\n",
        " (54.900000000000006, 0.0010000000000000009),\n",
        " (55.200000000000003, 0.0040000000000000036),\n",
        " (55.300000000000004, 0.0010000000000000009),\n",
        " (55.500000000000007, 0.0010000000000000009),\n",
        " (55.900000000000006, 0.0020000000000000018),\n",
        " (56.000000000000007, 0.0010000000000000009),\n",
        " (56.100000000000009, 0.0020000000000000018),\n",
        " (56.200000000000003, 0.0010000000000000009),\n",
        " (56.299999999999997, 0.0010000000000000009),\n",
        " (56.499999999999993, 0.0010000000000000009),\n",
        " (56.599999999999994, 0.0010000000000000009),\n",
        " (56.699999999999996, 0.0010000000000000009),\n",
        " (56.799999999999997, 0.00099999999999988987),\n",
        " (56.899999999999991, 0.0010000000000000009),\n",
        " (56.999999999999993, 0.0020000000000000018),\n",
        " (57.099999999999994, 0.0010000000000000009),\n",
        " (57.199999999999996, 0.0030000000000000027),\n",
        " (57.399999999999999, 0.0030000000000000027),\n",
        " (57.499999999999993, 0.0020000000000000018),\n",
        " (57.899999999999999, 0.0010000000000000009),\n",
        " (57.999999999999993, 0.0020000000000000018),\n",
        " (58.099999999999994, 0.0020000000000000018),\n",
        " (58.299999999999997, 0.0020000000000000018),\n",
        " (58.399999999999999, 0.0010000000000000009),\n",
        " (58.5, 0.0010000000000000009),\n",
        " (58.599999999999994, 0.0030000000000000027),\n",
        " (58.699999999999996, 0.0030000000000000027),\n",
        " (58.899999999999999, 0.0010000000000000009),\n",
        " (59.0, 0.0010000000000000009),\n",
        " (59.5, 0.0010000000000000009),\n",
        " (59.599999999999994, 0.0010000000000000009),\n",
        " (59.799999999999997, 0.0020000000000000018),\n",
        " (60.199999999999996, 0.0010000000000000009),\n",
        " (60.399999999999999, 0.0010000000000000009),\n",
        " (60.5, 0.0030000000000000027),\n",
        " (60.600000000000001, 0.0030000000000000027),\n",
        " (60.699999999999996, 0.0030000000000000027),\n",
        " (60.799999999999997, 0.0010000000000000009),\n",
        " (61.199999999999996, 0.0010000000000000009),\n",
        " (61.299999999999997, 0.0040000000000000036),\n",
        " (61.399999999999999, 0.0010000000000000009),\n",
        " (61.799999999999997, 0.0010000000000000009),\n",
        " (61.899999999999999, 0.0010000000000000009),\n",
        " (62.0, 0.0020000000000000018),\n",
        " (62.100000000000001, 0.0010000000000000009),\n",
        " (62.5, 0.0020000000000000018),\n",
        " (62.700000000000003, 0.0020000000000000018),\n",
        " (62.799999999999997, 0.0010000000000000009),\n",
        " (62.899999999999999, 0.0020000000000000018),\n",
        " (63.0, 0.0010000000000000009),\n",
        " (63.299999999999997, 0.0010000000000000009),\n",
        " (63.399999999999999, 0.0010000000000000009),\n",
        " (63.5, 0.0010000000000000009),\n",
        " (63.700000000000003, 0.0010000000000000009),\n",
        " (64.099999999999994, 0.0010000000000000009),\n",
        " (64.200000000000003, 0.0010000000000000009),\n",
        " (64.299999999999997, 0.0010000000000000009),\n",
        " (64.400000000000006, 0.0010000000000000009),\n",
        " (64.5, 0.0040000000000000036),\n",
        " (64.700000000000003, 0.0010000000000000009),\n",
        " (64.799999999999997, 0.0010000000000000009),\n",
        " (64.900000000000006, 0.0010000000000000009),\n",
        " (65.100000000000009, 0.0020000000000000018),\n",
        " (65.200000000000003, 0.0020000000000000018),\n",
        " (65.299999999999997, 0.0010000000000000009),\n",
        " (65.5, 0.0030000000000000027),\n",
        " (65.600000000000009, 0.0010000000000000009),\n",
        " (65.700000000000003, 0.0040000000000000036),\n",
        " (65.799999999999997, 0.0010000000000000009),\n",
        " (66.299999999999997, 0.0020000000000000018),\n",
        " (66.400000000000006, 0.0040000000000000036),\n",
        " (66.600000000000009, 0.0020000000000000018),\n",
        " (66.700000000000003, 0.0010000000000000009),\n",
        " (66.799999999999997, 0.0030000000000000027),\n",
        " (66.900000000000006, 0.0020000000000000018),\n",
        " (67.0, 0.0020000000000000018),\n",
        " (67.100000000000009, 0.0010000000000000009),\n",
        " (67.300000000000011, 0.0010000000000000009),\n",
        " (67.400000000000006, 0.0010000000000000009),\n",
        " (67.600000000000009, 0.0030000000000000027),\n",
        " (67.800000000000011, 0.0020000000000000018),\n",
        " (68.0, 0.0010000000000000009),\n",
        " (68.100000000000009, 0.0010000000000000009),\n",
        " (68.300000000000011, 0.0010000000000000009),\n",
        " (68.400000000000006, 0.0020000000000000018),\n",
        " (68.899999999999991, 0.0020000000000000018),\n",
        " (69.099999999999994, 0.00099999999999988987),\n",
        " (69.199999999999989, 0.0020000000000000018),\n",
        " (69.299999999999997, 0.0020000000000000018),\n",
        " (69.399999999999991, 0.0010000000000000009),\n",
        " (69.699999999999989, 0.0010000000000000009),\n",
        " (69.799999999999997, 0.0010000000000000009),\n",
        " (70.0, 0.0020000000000000018),\n",
        " (70.199999999999989, 0.0020000000000000018),\n",
        " (70.399999999999991, 0.0020000000000000018),\n",
        " (70.5, 0.0010000000000000009),\n",
        " (70.700000000000003, 0.0010000000000000009),\n",
        " (70.899999999999991, 0.0010000000000000009),\n",
        " (71.0, 0.0020000000000000018),\n",
        " (71.099999999999994, 0.0020000000000000018),\n",
        " (71.200000000000003, 0.0020000000000000018),\n",
        " (71.399999999999991, 0.0010000000000000009),\n",
        " (71.599999999999994, 0.0030000000000000027),\n",
        " (71.799999999999997, 0.0010000000000000009),\n",
        " (71.899999999999991, 0.0020000000000000018),\n",
        " (72.0, 0.0030000000000000027),\n",
        " (72.099999999999994, 0.0020000000000000018),\n",
        " (72.200000000000003, 0.0030000000000000027),\n",
        " (72.299999999999997, 0.0020000000000000018),\n",
        " (72.599999999999994, 0.0010000000000000009),\n",
        " (72.700000000000003, 0.0010000000000000009),\n",
        " (72.899999999999991, 0.0010000000000000009),\n",
        " (73.0, 0.0010000000000000009),\n",
        " (73.200000000000003, 0.0020000000000000018),\n",
        " (73.400000000000006, 0.0020000000000000018),\n",
        " (73.5, 0.0010000000000000009),\n",
        " (73.599999999999994, 0.0020000000000000018),\n",
        " (73.700000000000003, 0.0030000000000000027),\n",
        " (73.799999999999997, 0.0050000000000000044),\n",
        " (74.099999999999994, 0.0010000000000000009),\n",
        " (74.299999999999997, 0.0010000000000000009),\n",
        " (74.400000000000006, 0.0010000000000000009),\n",
        " (74.5, 0.0020000000000000018),\n",
        " (74.599999999999994, 0.0050000000000000044),\n",
        " (74.700000000000003, 0.0010000000000000009),\n",
        " (74.799999999999997, 0.0030000000000000027),\n",
        " (75.0, 0.0010000000000000009),\n",
        " (75.099999999999994, 0.0020000000000000018),\n",
        " (75.299999999999997, 0.0010000000000000009),\n",
        " (75.400000000000006, 0.0010000000000000009),\n",
        " (75.799999999999997, 0.0010000000000000009),\n",
        " (76.200000000000003, 0.0030000000000000027),\n",
        " (76.299999999999997, 0.0010000000000000009),\n",
        " (76.5, 0.0020000000000000018),\n",
        " (76.700000000000003, 0.0010000000000000009),\n",
        " (76.799999999999997, 0.0020000000000000018),\n",
        " (77.100000000000009, 0.0020000000000000018),\n",
        " (77.600000000000009, 0.0020000000000000018),\n",
        " (77.799999999999997, 0.0010000000000000009),\n",
        " (77.900000000000006, 0.0010000000000000009),\n",
        " (78.0, 0.0020000000000000018),\n",
        " (78.100000000000009, 0.0020000000000000018),\n",
        " (78.400000000000006, 0.0010000000000000009),\n",
        " (78.5, 0.0010000000000000009),\n",
        " (78.700000000000003, 0.0010000000000000009),\n",
        " (78.799999999999997, 0.0010000000000000009),\n",
        " (79.0, 0.0020000000000000018),\n",
        " (79.299999999999997, 0.0020000000000000018),\n",
        " (79.400000000000006, 0.0020000000000000018),\n",
        " (79.5, 0.0010000000000000009),\n",
        " (79.600000000000009, 0.0040000000000000036),\n",
        " (79.800000000000011, 0.0020000000000000018),\n",
        " (79.900000000000006, 0.0020000000000000018),\n",
        " (80.100000000000009, 0.0010000000000000009),\n",
        " (80.300000000000011, 0.0010000000000000009),\n",
        " (80.600000000000009, 0.0020000000000000018),\n",
        " (80.700000000000003, 0.0010000000000000009),\n",
        " (80.800000000000011, 0.0020000000000000018),\n",
        " (80.900000000000006, 0.0019999999999998908),\n",
        " (81.399999999999991, 0.0010000000000000009),\n",
        " (81.599999999999994, 0.0010000000000000009),\n",
        " (81.899999999999991, 0.0010000000000000009),\n",
        " (82.0, 0.0010000000000000009),\n",
        " (82.099999999999994, 0.0010000000000000009),\n",
        " (82.199999999999989, 0.0020000000000000018),\n",
        " (82.5, 0.0010000000000000009),\n",
        " (82.599999999999994, 0.0010000000000000009),\n",
        " (82.699999999999989, 0.0030000000000000027),\n",
        " (82.799999999999997, 0.0010000000000000009),\n",
        " (82.899999999999991, 0.0010000000000000009),\n",
        " (83.0, 0.0020000000000000018),\n",
        " (83.099999999999994, 0.0020000000000000018),\n",
        " (83.200000000000003, 0.0010000000000000009),\n",
        " (83.399999999999991, 0.0050000000000000044),\n",
        " (83.5, 0.0020000000000000018),\n",
        " (84.099999999999994, 0.0010000000000000009),\n",
        " (84.200000000000003, 0.0010000000000000009),\n",
        " (84.299999999999997, 0.0010000000000000009),\n",
        " (84.399999999999991, 0.0030000000000000027),\n",
        " (84.5, 0.0010000000000000009),\n",
        " (85.0, 0.0020000000000000018),\n",
        " (85.099999999999994, 0.0020000000000000018),\n",
        " (85.200000000000003, 0.0020000000000000018),\n",
        " (85.299999999999997, 0.0020000000000000018),\n",
        " (85.5, 0.0010000000000000009),\n",
        " (85.700000000000003, 0.0010000000000000009),\n",
        " (85.900000000000006, 0.0010000000000000009),\n",
        " (86.0, 0.0020000000000000018),\n",
        " (86.299999999999997, 0.0010000000000000009),\n",
        " (86.400000000000006, 0.0010000000000000009),\n",
        " (86.5, 0.0010000000000000009),\n",
        " (86.599999999999994, 0.0010000000000000009),\n",
        " (86.700000000000003, 0.0010000000000000009),\n",
        " (86.799999999999997, 0.0010000000000000009),\n",
        " (86.900000000000006, 0.0010000000000000009),\n",
        " (87.099999999999994, 0.0010000000000000009),\n",
        " (87.200000000000003, 0.0010000000000000009),\n",
        " (87.400000000000006, 0.0010000000000000009),\n",
        " (87.5, 0.0010000000000000009),\n",
        " (87.799999999999997, 0.0020000000000000018),\n",
        " (88.0, 0.0010000000000000009),\n",
        " (88.200000000000003, 0.0030000000000000027),\n",
        " (88.299999999999997, 0.0010000000000000009),\n",
        " (88.5, 0.0020000000000000018),\n",
        " (88.700000000000003, 0.0020000000000000018),\n",
        " (88.900000000000006, 0.0020000000000000018),\n",
        " (89.0, 0.0010000000000000009),\n",
        " (89.200000000000003, 0.0010000000000000009),\n",
        " (89.299999999999997, 0.0030000000000000027),\n",
        " (89.400000000000006, 0.0010000000000000009),\n",
        " (89.600000000000009, 0.0010000000000000009),\n",
        " (89.700000000000003, 0.0020000000000000018),\n",
        " (89.799999999999997, 0.0010000000000000009),\n",
        " (89.900000000000006, 0.0010000000000000009),\n",
        " (90.0, 0.0040000000000000036),\n",
        " (90.100000000000009, 0.0010000000000000009),\n",
        " (90.200000000000003, 0.0010000000000000009),\n",
        " (90.299999999999997, 0.0020000000000000018),\n",
        " (90.5, 0.0010000000000000009),\n",
        " (90.700000000000003, 0.0010000000000000009),\n",
        " (90.799999999999997, 0.0030000000000000027),\n",
        " (90.900000000000006, 0.0010000000000000009),\n",
        " (91.0, 0.0020000000000000018),\n",
        " (91.400000000000006, 0.0010000000000000009),\n",
        " (91.5, 0.0020000000000000018),\n",
        " (91.600000000000009, 0.0020000000000000018),\n",
        " (91.700000000000003, 0.0010000000000000009),\n",
        " (91.900000000000006, 0.0050000000000000044),\n",
        " (92.0, 0.0010000000000000009),\n",
        " (92.100000000000009, 0.0010000000000000009),\n",
        " (92.200000000000003, 0.0010000000000000009),\n",
        " (92.400000000000006, 0.0010000000000000009),\n",
        " (92.800000000000011, 0.0010000000000000009),\n",
        " (92.900000000000006, 0.0010000000000000009),\n",
        " (93.0, 0.0030000000000000027),\n",
        " (93.100000000000009, 0.0020000000000000018),\n",
        " (93.200000000000003, 0.0069999999999998952),\n",
        " (93.300000000000011, 0.0010000000000000009),\n",
        " (93.400000000000006, 0.0010000000000000009),\n",
        " (93.799999999999997, 0.0010000000000000009),\n",
        " (94.199999999999989, 0.0010000000000000009),\n",
        " (94.299999999999997, 0.0010000000000000009),\n",
        " (94.399999999999991, 0.0020000000000000018),\n",
        " (94.599999999999994, 0.0010000000000000009),\n",
        " (94.699999999999989, 0.0020000000000000018),\n",
        " (94.899999999999991, 0.0010000000000000009),\n",
        " (95.0, 0.0010000000000000009),\n",
        " (95.199999999999989, 0.0020000000000000018),\n",
        " (95.399999999999991, 0.0010000000000000009),\n",
        " (95.599999999999994, 0.0010000000000000009),\n",
        " (96.0, 0.0010000000000000009),\n",
        " (96.099999999999994, 0.0010000000000000009),\n",
        " (96.200000000000003, 0.0020000000000000018),\n",
        " (96.299999999999997, 0.0010000000000000009),\n",
        " (96.399999999999991, 0.0030000000000000027),\n",
        " (96.599999999999994, 0.0010000000000000009),\n",
        " (96.700000000000003, 0.0010000000000000009),\n",
        " (96.899999999999991, 0.0010000000000000009),\n",
        " (97.099999999999994, 0.0010000000000000009),\n",
        " (97.299999999999997, 0.0040000000000000036),\n",
        " (97.399999999999991, 0.0010000000000000009),\n",
        " (97.599999999999994, 0.0010000000000000009),\n",
        " (97.899999999999991, 0.0010000000000000009),\n",
        " (98.0, 0.0040000000000000036),\n",
        " (98.099999999999994, 0.0030000000000000027),\n",
        " (98.200000000000003, 0.0010000000000000009),\n",
        " (98.299999999999997, 0.0010000000000000009),\n",
        " (98.5, 0.0010000000000000009),\n",
        " (98.599999999999994, 0.0030000000000000027),\n",
        " (98.700000000000003, 0.0020000000000000018),\n",
        " (98.799999999999997, 0.0010000000000000009),\n",
        " (98.900000000000006, 0.0020000000000000018),\n",
        " (99.099999999999994, 0.0010000000000000009),\n",
        " (99.299999999999997, 0.0010000000000000009),\n",
        " (99.799999999999997, 0.0010000000000000009),\n",
        " (99.900000000000006, 0.0030000000000000027),\n",
        " (100.0, 0.0020000000000000018)]"
       ]
      }
     ],
     "prompt_number": 17
    },
    {
     "cell_type": "markdown",
     "metadata": {},
     "source": [
      "Generate 1000 random values using <tt>random.random()</tt> and plot their PMF."
     ]
    },
    {
     "cell_type": "code",
     "collapsed": false,
     "input": [
      "values = [random.random() for _ in range(1000)]\n",
      "pmf = thinkstats2.Pmf(values)\n",
      "thinkplot.Pmf(pmf, linewidth=0.1)"
     ],
     "language": "python",
     "metadata": {},
     "outputs": []
    },
    {
     "cell_type": "markdown",
     "metadata": {},
     "source": [
      "Assuming that the PMF doesn't work very well, try plotting the CDF instead."
     ]
    },
    {
     "cell_type": "code",
     "collapsed": false,
     "input": [
      "cdf = thinkstats2.Cdf(values)\n",
      "thinkplot.Cdf(cdf)\n",
      "thinkplot.Show()"
     ],
     "language": "python",
     "metadata": {},
     "outputs": []
    },
    {
     "cell_type": "code",
     "collapsed": false,
     "input": [
      "import analytic\n",
      "\n",
      "df = analytic.ReadBabyBoom()\n",
      "diffs = df.minutes.diff()\n",
      "cdf = thinkstats2.Cdf(diffs, label='actual')\n",
      "\n",
      "n = len(diffs)\n",
      "lam = 44.0 / 24 / 60\n",
      "sample = [random.expovariate(lam) for _ in range(n)]\n",
      "model = thinkstats2.Cdf(sample, label='model')\n",
      "    \n",
      "thinkplot.PrePlot(2)\n",
      "thinkplot.Cdfs([cdf, model], complement=True)\n",
      "thinkplot.Show(title='Time between births',\n",
      "                xlabel='minutes',\n",
      "                ylabel='CCDF',\n",
      "                yscale='log')\n",
      "\n",
      "lam, np.mean(sample)"
     ],
     "language": "python",
     "metadata": {},
     "outputs": []
    },
    {
     "cell_type": "code",
     "collapsed": false,
     "input": [],
     "language": "python",
     "metadata": {},
     "outputs": []
    },
    {
     "cell_type": "code",
     "collapsed": false,
     "input": [],
     "language": "python",
     "metadata": {},
     "outputs": []
    }
   ],
   "metadata": {}
  }
 ]
}